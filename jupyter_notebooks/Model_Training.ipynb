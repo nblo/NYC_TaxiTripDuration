{
 "cells": [
  {
   "cell_type": "code",
   "execution_count": 1,
   "metadata": {},
   "outputs": [],
   "source": [
    "import numpy as np\n",
    "import pandas as pd\n",
    "import os \n",
    "\n",
    "%load_ext autoreload\n",
    "%autoreload 2"
   ]
  },
  {
   "cell_type": "code",
   "execution_count": 2,
   "metadata": {},
   "outputs": [],
   "source": [
    "df_rides = pd.read_pickle(os.path.join(\"..\\data\\df_rides.pickle\"))"
   ]
  },
  {
   "cell_type": "code",
   "execution_count": 3,
   "metadata": {},
   "outputs": [
    {
     "data": {
      "text/plain": [
       "Index(['vendor_id', 'pickup_datetime', 'dropoff_datetime', 'passenger_count',\n",
       "       'pickup_longitude', 'pickup_latitude', 'dropoff_longitude',\n",
       "       'dropoff_latitude', 'store_and_fwd_flag', 'trip_duration',\n",
       "       'pickup_geom', 'dropoff_geom', 'pickup_x_utm', 'pickup_y_utm',\n",
       "       'dropoff_x_utm', 'dropoff_y_utm', 'distance_beeline',\n",
       "       'distance_manhattan', 'avg_speed_kmh', 'day_of_week', 'season', 'month',\n",
       "       'day_of_year', 'is_weekend', 'hour', 'date', 'id', 'holiday_name',\n",
       "       'is_holiday', 'hours_daylight', 'x_sw_utm_Cell_ID_dropoff',\n",
       "       'y_sw_utm_Cell_ID_dropoff', 'Cell_ID_dropoff',\n",
       "       'x_sw_utm_Cell_ID_pickup', 'y_sw_utm_Cell_ID_pickup', 'Cell_ID_pickup'],\n",
       "      dtype='object')"
      ]
     },
     "execution_count": 3,
     "metadata": {},
     "output_type": "execute_result"
    }
   ],
   "source": [
    "df_rides.columns"
   ]
  },
  {
   "cell_type": "code",
   "execution_count": 73,
   "metadata": {},
   "outputs": [],
   "source": [
    "cols_features =  ['distance_manhattan',]\n",
    "\n",
    "col_label = ['trip_duration']\n",
    "\n",
    "X = df_rides[cols_features]\n",
    "y = df_rides[col_label]"
   ]
  },
  {
   "cell_type": "code",
   "execution_count": 74,
   "metadata": {},
   "outputs": [],
   "source": [
    "from sklearn.model_selection import train_test_split\n",
    "\n",
    "X_train, X_test, y_train, y_test = train_test_split(\n",
    "    X, y, test_size=0.1, random_state=42)"
   ]
  },
  {
   "cell_type": "code",
   "execution_count": 75,
   "metadata": {},
   "outputs": [],
   "source": [
    "def score(y_test, func, func_args=[], func_kwargs={}):\n",
    "    prediction = func(*func_args, **func_kwargs)\n",
    "    return  np.sqrt(1/(y_test.shape[0])\n",
    "                    *np.sum(np.power(np.log1p(prediction)-np.log1p(y_test),2)))"
   ]
  },
  {
   "cell_type": "code",
   "execution_count": 76,
   "metadata": {},
   "outputs": [
    {
     "name": "stdout",
     "output_type": "stream",
     "text": [
      "trip_duration    0.866594\n",
      "dtype: float64\n",
      "trip_duration    0.776585\n",
      "dtype: float64\n"
     ]
    }
   ],
   "source": [
    "print(score(y_test, func=np.mean, func_args=[y_train]))\n",
    "print(score(y_test, func=np.median, func_args=[y_train]))"
   ]
  },
  {
   "cell_type": "code",
   "execution_count": 79,
   "metadata": {},
   "outputs": [
    {
     "data": {
      "text/plain": [
       "trip_duration    0.626594\n",
       "dtype: float64"
      ]
     },
     "execution_count": 79,
     "metadata": {},
     "output_type": "execute_result"
    }
   ],
   "source": [
    "from sklearn import linear_model\n",
    "reg = linear_model.LinearRegression()\n",
    "\n",
    "reg = reg.fit(X_train, y_train)\n",
    "score(y_test, func=reg.predict, func_args=[X_test])"
   ]
  },
  {
   "cell_type": "code",
   "execution_count": 81,
   "metadata": {},
   "outputs": [
    {
     "data": {
      "text/plain": [
       "array([[0.11312738]])"
      ]
     },
     "execution_count": 81,
     "metadata": {},
     "output_type": "execute_result"
    }
   ],
   "source": [
    "reg.coef_"
   ]
  },
  {
   "cell_type": "code",
   "execution_count": null,
   "metadata": {},
   "outputs": [],
   "source": []
  }
 ],
 "metadata": {
  "kernelspec": {
   "display_name": "Python 3",
   "language": "python",
   "name": "python3"
  },
  "language_info": {
   "codemirror_mode": {
    "name": "ipython",
    "version": 3
   },
   "file_extension": ".py",
   "mimetype": "text/x-python",
   "name": "python",
   "nbconvert_exporter": "python",
   "pygments_lexer": "ipython3",
   "version": "3.6.6"
  }
 },
 "nbformat": 4,
 "nbformat_minor": 2
}
