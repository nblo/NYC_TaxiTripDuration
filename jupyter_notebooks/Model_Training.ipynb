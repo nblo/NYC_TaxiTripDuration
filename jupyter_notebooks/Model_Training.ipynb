{
 "cells": [
  {
   "cell_type": "code",
   "execution_count": 1,
   "metadata": {},
   "outputs": [],
   "source": [
    "import numpy as np\n",
    "import pandas as pd\n",
    "import os \n",
    "\n",
    "%load_ext autoreload\n",
    "%autoreload 2"
   ]
  },
  {
   "cell_type": "code",
   "execution_count": 2,
   "metadata": {},
   "outputs": [],
   "source": [
    "df_rides = pd.read_pickle(os.path.join(\"..\\data\\df_rides.pickle\"))"
   ]
  },
  {
   "cell_type": "code",
   "execution_count": 3,
   "metadata": {},
   "outputs": [
    {
     "data": {
      "text/plain": [
       "Index(['vendor_id', 'pickup_datetime', 'dropoff_datetime', 'passenger_count',\n",
       "       'pickup_longitude', 'pickup_latitude', 'dropoff_longitude',\n",
       "       'dropoff_latitude', 'store_and_fwd_flag', 'trip_duration',\n",
       "       'pickup_geom', 'dropoff_geom', 'pickup_x_utm', 'pickup_y_utm',\n",
       "       'dropoff_x_utm', 'dropoff_y_utm', 'distance_beeline',\n",
       "       'distance_manhattan', 'avg_speed_kmh', 'day_of_week', 'season', 'month',\n",
       "       'day_of_year', 'is_weekend', 'hour', 'date', 'id', 'holiday_name',\n",
       "       'is_holiday', 'hours_daylight', 'x_sw_utm_Cell_ID_dropoff',\n",
       "       'y_sw_utm_Cell_ID_dropoff', 'Cell_ID_dropoff',\n",
       "       'x_sw_utm_Cell_ID_pickup', 'y_sw_utm_Cell_ID_pickup', 'Cell_ID_pickup'],\n",
       "      dtype='object')"
      ]
     },
     "execution_count": 3,
     "metadata": {},
     "output_type": "execute_result"
    }
   ],
   "source": [
    "df_rides.columns"
   ]
  },
  {
   "cell_type": "code",
   "execution_count": 58,
   "metadata": {},
   "outputs": [],
   "source": [
    "cols_features =  [\"distance_beeline\",\"pickup_latitude\",\"dropoff_x_utm\"]\n",
    "\n",
    "col_label = ['trip_duration']\n",
    "\n",
    "X = df_rides[cols_features]\n",
    "y = df_rides[col_label]"
   ]
  },
  {
   "cell_type": "code",
   "execution_count": 59,
   "metadata": {},
   "outputs": [],
   "source": [
    "from sklearn.model_selection import train_test_split\n",
    "\n",
    "X_train, X_test, y_train, y_test = train_test_split(\n",
    "    X, y, test_size=0.1, random_state=42)"
   ]
  },
  {
   "cell_type": "code",
   "execution_count": 89,
   "metadata": {},
   "outputs": [],
   "source": [
    "def score(y_test, func, func_args=[], func_kwargs={}):\n",
    "    prediction = func(*func_args, **func_kwargs)\n",
    "    y_test = np.squeeze(y_test)\n",
    "    prediction = np.squeeze(prediction)\n",
    "    return  np.sqrt(1/(y_test.shape[0])\n",
    "                    *np.sum(np.power(np.log1p(prediction)-np.log1p(y_test),2)))"
   ]
  },
  {
   "cell_type": "code",
   "execution_count": 90,
   "metadata": {},
   "outputs": [
    {
     "name": "stdout",
     "output_type": "stream",
     "text": [
      "0.8665940711209233\n",
      "0.7765851237649247\n"
     ]
    }
   ],
   "source": [
    "print(score(y_test, func=np.mean, func_args=[y_train.values]))\n",
    "print(score(y_test, func=np.median, func_args=[y_train.values]))"
   ]
  },
  {
   "cell_type": "code",
   "execution_count": 95,
   "metadata": {},
   "outputs": [
    {
     "data": {
      "text/plain": [
       "0.6153618023881599"
      ]
     },
     "execution_count": 95,
     "metadata": {},
     "output_type": "execute_result"
    }
   ],
   "source": [
    "from sklearn import linear_model\n",
    "from sklearn.ensemble import RandomForestRegressor\n",
    "from sklearn.svm import SVR\n",
    "from sklearn import linear_model\n",
    "\n",
    "\n",
    "reg = linear_model.LinearRegression()\n",
    "#reg = RandomForestRegressor(n_estimators=40, random_state = 42)\n",
    "#reg = SVR(gamma='scale', C=1.0, epsilon=0.2)\n",
    "#reg = linear_model.Lasso(alpha=0.1)\n",
    "\n",
    "\n",
    "reg = reg.fit(X_train, y_train)\n",
    "score(y_test, func=reg.predict, func_args=[X_test.values])"
   ]
  }
 ],
 "metadata": {
  "kernelspec": {
   "display_name": "Python 3",
   "language": "python",
   "name": "python3"
  },
  "language_info": {
   "codemirror_mode": {
    "name": "ipython",
    "version": 3
   },
   "file_extension": ".py",
   "mimetype": "text/x-python",
   "name": "python",
   "nbconvert_exporter": "python",
   "pygments_lexer": "ipython3",
   "version": "3.6.6"
  }
 },
 "nbformat": 4,
 "nbformat_minor": 2
}
